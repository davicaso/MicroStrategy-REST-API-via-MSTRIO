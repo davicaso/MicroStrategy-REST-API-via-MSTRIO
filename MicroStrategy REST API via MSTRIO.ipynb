{
 "cells": [
  {
   "cell_type": "markdown",
   "id": "0f63ff54",
   "metadata": {},
   "source": [
    "# Exercise: Create and upload an OLAP Cube with mstrio\n",
    "\n",
    "## Introduction & Library Imports\n",
    "\n",
    "You are a developer at a Cryptocurrency firm, Blockchain Unity. As part of the platform, the price data of various cryptocurrencies are automatically scraped with a web crawler and saved in a comma delimited format. This data then needs to be uploaded to MicroStrategy and refreshed every hour. To improve efficiency, you are tasked with adding this data to an OLAP cube and uploading it to the MicroStrategy metadata. Instead of manually uploading every single data file, you use mstrio to automatically create and upload the cubes.\n",
    "\n",
    "## Declare environment credential variables\n",
    "\n",
    "Begin by declaring some variables that holds the environment details. Since we are using Standard Authentication using the mstr username and password from the Welcome to MicroStrategy Email, we can store this information alongside the environment ID, all required to establish a connection with the Rest API through mstrio."
   ]
  },
  {
   "cell_type": "code",
   "execution_count": 1,
   "id": "49de162e",
   "metadata": {},
   "outputs": [
    {
     "name": "stdout",
     "output_type": "stream",
     "text": [
      "ENV ID: 309598\n",
      "Username: mstr\n",
      "Password: ISvFDIk9mGqn\n"
     ]
    }
   ],
   "source": [
    "# Input credentials\n",
    "\n",
    "env=input(\"ENV ID: \")\n",
    "username=input(\"Username: \")\n",
    "pw = input(\"Password: \")"
   ]
  },
  {
   "cell_type": "markdown",
   "id": "16166458",
   "metadata": {},
   "source": [
    "## Establish an environment connection\n",
    "\n",
    "With the variables stored, we need to establish a connection with the MicroStrategy environment. This is done by creating a Connection object from the mstrio.connection class. The connection object takes in the base REST API url, the username, and password. The REST API url is generated using the environment number we saved previously."
   ]
  },
  {
   "cell_type": "code",
   "execution_count": 2,
   "id": "ffe44c13",
   "metadata": {},
   "outputs": [
    {
     "name": "stdout",
     "output_type": "stream",
     "text": [
      "Connection to MicroStrategy Intelligence Server has been established.\n"
     ]
    }
   ],
   "source": [
    "# Connect to your MSTR environment\n",
    "\n",
    "from mstrio.connection import Connection\n",
    "from mstrio.server import Project, compare_project_settings, Environment\n",
    "\n",
    "base_url = \"https://env-\" + env + \".customer.cloud.microstrategy.com/MicroStrategyLibrary/api\"\n",
    "username = username\n",
    "password = pw\n",
    "conn = Connection(base_url, username, password, project_name=\"MicroStrategy Tutorial\", login_mode=1)\n",
    "env = Environment(connection=conn)"
   ]
  },
  {
   "cell_type": "markdown",
   "id": "426cf833",
   "metadata": {},
   "source": [
    "## Import additional mstrio modules\n",
    "\n",
    "Now that a connection has been established, additional modules are required to get information on the cubes within any MicroStrategy project. In this exercise, all new cubes are saved in the MicroStrategy Tutorial project."
   ]
  },
  {
   "cell_type": "code",
   "execution_count": 3,
   "id": "b3ed2460",
   "metadata": {},
   "outputs": [
    {
     "name": "stdout",
     "output_type": "stream",
     "text": [
      "Imported required modules\n"
     ]
    }
   ],
   "source": [
    "# Import additional OLAP Cube, object managment, utility modules\n",
    "\n",
    "from mstrio.object_management import (Folder, list_folders, get_predefined_folder_contents,\n",
    "                                    get_my_personal_objects_contents, PredefinedFolders, Object,\n",
    "                                    list_objects, SearchObject, get_search_suggestions,\n",
    "                                    quick_search, quick_search_from_object, full_search,\n",
    "                                    start_full_search, get_search_results, SearchPattern,\n",
    "                                    SearchResultsFormat)\n",
    "from mstrio.project_objects.dossier import Dossier\n",
    "from mstrio.utils.entity import Rights\n",
    "from mstrio.types import ObjectSubTypes, ObjectTypes\n",
    "import json\n",
    "from mstrio.project_objects.datasets.olap_cube import OlapCube, list_olap_cubes\n",
    "\n",
    "print(\"Imported required modules\")"
   ]
  },
  {
   "cell_type": "markdown",
   "id": "4f089600",
   "metadata": {},
   "source": [
    "## List folders of the MicroStrategy Tutorial Project\n",
    "\n",
    "To get the folder IDs of the MicroStrategy Tutorial Project, we must first get the project that's loaded."
   ]
  },
  {
   "cell_type": "code",
   "execution_count": 4,
   "id": "0b326808",
   "metadata": {},
   "outputs": [
    {
     "name": "stdout",
     "output_type": "stream",
     "text": [
      "Project object named: 'MicroStrategy Tutorial' with ID: 'B7CA92F04B9FAE8D941C3E9B7E0CD754'\n",
      "Project object named: 'Consolidated Education Project' with ID: 'CE52831411E696C8BD2F0080EFD5AF44'\n",
      "Project object named: 'Hierarchies Project' with ID: 'B3FEE61A11E696C8BD0F0080EFC58F44'\n",
      "Project object named: 'Human Resources Analysis Module' with ID: '4BAE16A340B995CAD24193AA3AC15D29'\n",
      "Project object named: 'Relationships Project' with ID: '4C09350211E69712BAEE0080EFB56D41'\n",
      "Project object named: 'Platform Analytics' with ID: '0DDDDEC8C94B320B4E93498C1EE98D18'\n",
      "Copy and Paste the Microstrategy Tutorial Project ID: B7CA92F04B9FAE8D941C3E9B7E0CD754\n"
     ]
    }
   ],
   "source": [
    "# Establish MicroStrategy Tutorial project and list loaded projects\n",
    "\n",
    "loaded_projects = env.list_loaded_projects()\n",
    "for project in loaded_projects:\n",
    "    print(project)\n",
    "\n",
    "tutorial_id = input(\"Copy and Paste the Microstrategy Tutorial Project ID: \")"
   ]
  },
  {
   "cell_type": "markdown",
   "id": "53d28b1b",
   "metadata": {},
   "source": [
    "Now that we have the ID of the MicroStrategy Tutorial Project, we can list the folders of the project using the project ID."
   ]
  },
  {
   "cell_type": "code",
   "execution_count": 5,
   "id": "118bcb1f",
   "metadata": {},
   "outputs": [
    {
     "data": {
      "text/plain": [
       "[Folder(connection, id='4A73885B8ACA4A65BB2AD3AA3E1DE576', name='Object Templates'),\n",
       " Folder(connection, id='84DAAC900B864173907F44B75C68FD96', name='Profiles'),\n",
       " Folder(connection, id='42EEDD41A6954F7485453C170AA3F8BE', name='Project Builder'),\n",
       " Folder(connection, id='02C37D85EE25483AA5708E2BFE858B92', name='Project Objects'),\n",
       " Folder(connection, id='98FE182C2A10427EACE0CD30B6768258', name='Public Objects'),\n",
       " Folder(connection, id='95C3B713318B43D490EE789BE27D298C', name='Schema Objects'),\n",
       " Folder(connection, id='09AA41BA555349E8B6E5C750073DBDE9', name='System Objects'),\n",
       " Folder(connection, id='14B3EE8211D540A5C0005E916B98494F', name='Version Information'),\n",
       " Folder(connection, id='C849EA5311D49BBCC0003486395B684F', name='Version Update History')]"
      ]
     },
     "execution_count": 5,
     "metadata": {},
     "output_type": "execute_result"
    }
   ],
   "source": [
    "# List folders from a particular project\n",
    "list_folders(conn, project_id=tutorial_id)"
   ]
  },
  {
   "cell_type": "markdown",
   "id": "80e9734b",
   "metadata": {},
   "source": [
    "Now that we have enough information on where to put our cube, let's build a quick example cube with one attribute and one metric. Note that these IDs correspond to default ones in the tutorial, Customer and Prices. If we wanted actual cryptocurrency values, we would need to create separate objects with these IDs first in order to build our cube."
   ]
  },
  {
   "cell_type": "code",
   "execution_count": 6,
   "id": "c3f79d06",
   "metadata": {
    "scrolled": true
   },
   "outputs": [],
   "source": [
    "folder = '98FE182C2A10427EACE0CD30B6768258'\n",
    "\n",
    "# Create new OLAP Cube using a single attribute and metric\n",
    "attributes = [{\n",
    "    'id': '8D679D3C11D3E4981000E787EC6DE8A4',\n",
    "    'name': 'Ticker',\n",
    "    'type': 'attribute',\n",
    "    'forms': [{\n",
    "        'id': '8D67A35B11D3E4981000E787EC6DE8A4',\n",
    "        'name': 'Ticker DESC 1',\n",
    "        'type': 'form'\n",
    "    }]\n",
    "}]\n",
    "metrics = [{'id': '5E2B495C11D66F4BC0006CBEB630224F', 'name': 'Price', 'type': 'metric'}]\n",
    "new_olap_cube = OlapCube.create(conn, name=\"CryptoCurrency Ticker Prices\", description=\"A price list of some cryptocurrencies\",\n",
    "                                folder_id=folder, attributes=attributes, metrics=metrics)"
   ]
  },
  {
   "cell_type": "markdown",
   "id": "f07948c7",
   "metadata": {},
   "source": [
    "## Publish, refresh, and show status of the cube\n",
    "\n",
    "Now that we have an example cube, we can publish it. This enables the cube to be used as a dataset."
   ]
  },
  {
   "cell_type": "code",
   "execution_count": 7,
   "id": "1445c3a1",
   "metadata": {},
   "outputs": [
    {
     "name": "stdout",
     "output_type": "stream",
     "text": [
      "Request for publishing cube 'CryptoCurrency Ticker Prices' was sent.\n"
     ]
    },
    {
     "data": {
      "text/plain": [
       "{'id': '131:RU5WLTMwOTU5OExBSU9VU0Ux', 'jobId': 131}"
      ]
     },
     "execution_count": 7,
     "metadata": {},
     "output_type": "execute_result"
    }
   ],
   "source": [
    "# Publish Cube\n",
    "new_olap_cube.publish()"
   ]
  },
  {
   "cell_type": "markdown",
   "id": "87ba8cd9",
   "metadata": {},
   "source": [
    "Lastly, we can refresh and show the status of our cube."
   ]
  },
  {
   "cell_type": "code",
   "execution_count": 10,
   "id": "f6b33ebf",
   "metadata": {},
   "outputs": [
    {
     "name": "stdout",
     "output_type": "stream",
     "text": [
      "Ready, Loaded, Persisted, Active, Reserved\n"
     ]
    },
    {
     "data": {
      "text/plain": [
       "['Ready', 'Loaded', 'Persisted', 'Active', 'Reserved']"
      ]
     },
     "execution_count": 10,
     "metadata": {},
     "output_type": "execute_result"
    }
   ],
   "source": [
    "# Refresh and show status of an OLAP Cube\n",
    "new_olap_cube.refresh_status()\n",
    "new_olap_cube.show_status()\n"
   ]
  },
  {
   "cell_type": "code",
   "execution_count": null,
   "id": "cf50cb1f",
   "metadata": {},
   "outputs": [],
   "source": []
  }
 ],
 "metadata": {
  "kernelspec": {
   "display_name": "Python 3 (ipykernel)",
   "language": "python",
   "name": "python3"
  },
  "language_info": {
   "codemirror_mode": {
    "name": "ipython",
    "version": 3
   },
   "file_extension": ".py",
   "mimetype": "text/x-python",
   "name": "python",
   "nbconvert_exporter": "python",
   "pygments_lexer": "ipython3",
   "version": "3.11.2"
  }
 },
 "nbformat": 4,
 "nbformat_minor": 5
}
